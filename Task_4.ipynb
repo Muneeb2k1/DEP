{
  "nbformat": 4,
  "nbformat_minor": 0,
  "metadata": {
    "colab": {
      "provenance": [],
      "authorship_tag": "ABX9TyPHT6mFN5CliORy6xKuUruM",
      "include_colab_link": true
    },
    "kernelspec": {
      "name": "python3",
      "display_name": "Python 3"
    },
    "language_info": {
      "name": "python"
    }
  },
  "cells": [
    {
      "cell_type": "markdown",
      "metadata": {
        "id": "view-in-github",
        "colab_type": "text"
      },
      "source": [
        "<a href=\"https://colab.research.google.com/github/Muneeb2k1/DEP/blob/main/Task_4.ipynb\" target=\"_parent\"><img src=\"https://colab.research.google.com/assets/colab-badge.svg\" alt=\"Open In Colab\"/></a>"
      ]
    },
    {
      "cell_type": "code",
      "source": [
        "import matplotlib.pyplot as plt\n",
        "import seaborn as sns\n",
        "import pandas as pd\n",
        "from sklearn.ensemble import IsolationForest\n",
        "from sklearn.preprocessing import LabelEncoder\n",
        "from sklearn.preprocessing import StandardScaler"
      ],
      "metadata": {
        "id": "k_bsiuaVh51F"
      },
      "execution_count": 56,
      "outputs": []
    },
    {
      "cell_type": "code",
      "source": [
        "df = pd.read_csv('CloudWatch_Traffic_Web_Attack.csv')\n",
        "print(df.head())"
      ],
      "metadata": {
        "colab": {
          "base_uri": "https://localhost:8080/"
        },
        "id": "fjHjWxEKh5xu",
        "outputId": "bdf34f47-6135-4910-d145-300571eb919b"
      },
      "execution_count": 57,
      "outputs": [
        {
          "output_type": "stream",
          "name": "stdout",
          "text": [
            "   bytes_in  bytes_out         creation_time              end_time  \\\n",
            "0      5602      12990  2024-04-25T23:00:00Z  2024-04-25T23:10:00Z   \n",
            "1     30912      18186  2024-04-25T23:00:00Z  2024-04-25T23:10:00Z   \n",
            "2     28506      13468  2024-04-25T23:00:00Z  2024-04-25T23:10:00Z   \n",
            "3     30546      14278  2024-04-25T23:00:00Z  2024-04-25T23:10:00Z   \n",
            "4      6526      13892  2024-04-25T23:00:00Z  2024-04-25T23:10:00Z   \n",
            "\n",
            "            src_ip src_ip_country_code protocol  response.code  dst_port  \\\n",
            "0   147.161.161.82                  AE    HTTPS            200       443   \n",
            "1     165.225.33.6                  US    HTTPS            200       443   \n",
            "2  165.225.212.255                  CA    HTTPS            200       443   \n",
            "3   136.226.64.114                  US    HTTPS            200       443   \n",
            "4   165.225.240.79                  NL    HTTPS            200       443   \n",
            "\n",
            "         dst_ip              rule_names                      observation_name  \\\n",
            "0  10.138.69.97  Suspicious Web Traffic  Adversary Infrastructure Interaction   \n",
            "1  10.138.69.97  Suspicious Web Traffic  Adversary Infrastructure Interaction   \n",
            "2  10.138.69.97  Suspicious Web Traffic  Adversary Infrastructure Interaction   \n",
            "3  10.138.69.97  Suspicious Web Traffic  Adversary Infrastructure Interaction   \n",
            "4  10.138.69.97  Suspicious Web Traffic  Adversary Infrastructure Interaction   \n",
            "\n",
            "    source.meta     source.name                  time detection_types  \n",
            "0  AWS_VPC_Flow  prod_webserver  2024-04-25T23:00:00Z        waf_rule  \n",
            "1  AWS_VPC_Flow  prod_webserver  2024-04-25T23:00:00Z        waf_rule  \n",
            "2  AWS_VPC_Flow  prod_webserver  2024-04-25T23:00:00Z        waf_rule  \n",
            "3  AWS_VPC_Flow  prod_webserver  2024-04-25T23:00:00Z        waf_rule  \n",
            "4  AWS_VPC_Flow  prod_webserver  2024-04-25T23:00:00Z        waf_rule  \n"
          ]
        }
      ]
    },
    {
      "cell_type": "code",
      "source": [
        "df['creation_time'] = pd.to_datetime(df['creation_time'])\n",
        "df['end_time'] = pd.to_datetime(df['end_time'])\n",
        "\n",
        "df.fillna(0, inplace=True)\n",
        "\n",
        "print(df.isnull().sum())"
      ],
      "metadata": {
        "colab": {
          "base_uri": "https://localhost:8080/"
        },
        "id": "Apsn5rZ9h5tm",
        "outputId": "dd4e7b5a-b1cf-42c6-aec8-c58b09f2afd0"
      },
      "execution_count": 58,
      "outputs": [
        {
          "output_type": "stream",
          "name": "stdout",
          "text": [
            "bytes_in               0\n",
            "bytes_out              0\n",
            "creation_time          0\n",
            "end_time               0\n",
            "src_ip                 0\n",
            "src_ip_country_code    0\n",
            "protocol               0\n",
            "response.code          0\n",
            "dst_port               0\n",
            "dst_ip                 0\n",
            "rule_names             0\n",
            "observation_name       0\n",
            "source.meta            0\n",
            "source.name            0\n",
            "time                   0\n",
            "detection_types        0\n",
            "dtype: int64\n"
          ]
        }
      ]
    },
    {
      "cell_type": "code",
      "source": [
        "df['duration'] = (df['end_time'] - df['creation_time']).dt.total_seconds()\n",
        "\n",
        "label_encoders = {}\n",
        "categorical_columns = ['protocol', 'detection_types']\n",
        "\n",
        "for column in categorical_columns:\n",
        "    le = LabelEncoder()\n",
        "    df[column] = le.fit_transform(df[column])\n",
        "    label_encoders[column] = le\n",
        "\n",
        "print(df.head())"
      ],
      "metadata": {
        "colab": {
          "base_uri": "https://localhost:8080/"
        },
        "id": "bH3p4XPjmx0s",
        "outputId": "8865e57e-278f-4479-d738-70582418ca24"
      },
      "execution_count": 59,
      "outputs": [
        {
          "output_type": "stream",
          "name": "stdout",
          "text": [
            "   bytes_in  bytes_out             creation_time                  end_time  \\\n",
            "0      5602      12990 2024-04-25 23:00:00+00:00 2024-04-25 23:10:00+00:00   \n",
            "1     30912      18186 2024-04-25 23:00:00+00:00 2024-04-25 23:10:00+00:00   \n",
            "2     28506      13468 2024-04-25 23:00:00+00:00 2024-04-25 23:10:00+00:00   \n",
            "3     30546      14278 2024-04-25 23:00:00+00:00 2024-04-25 23:10:00+00:00   \n",
            "4      6526      13892 2024-04-25 23:00:00+00:00 2024-04-25 23:10:00+00:00   \n",
            "\n",
            "            src_ip src_ip_country_code  protocol  response.code  dst_port  \\\n",
            "0   147.161.161.82                  AE         0            200       443   \n",
            "1     165.225.33.6                  US         0            200       443   \n",
            "2  165.225.212.255                  CA         0            200       443   \n",
            "3   136.226.64.114                  US         0            200       443   \n",
            "4   165.225.240.79                  NL         0            200       443   \n",
            "\n",
            "         dst_ip              rule_names                      observation_name  \\\n",
            "0  10.138.69.97  Suspicious Web Traffic  Adversary Infrastructure Interaction   \n",
            "1  10.138.69.97  Suspicious Web Traffic  Adversary Infrastructure Interaction   \n",
            "2  10.138.69.97  Suspicious Web Traffic  Adversary Infrastructure Interaction   \n",
            "3  10.138.69.97  Suspicious Web Traffic  Adversary Infrastructure Interaction   \n",
            "4  10.138.69.97  Suspicious Web Traffic  Adversary Infrastructure Interaction   \n",
            "\n",
            "    source.meta     source.name                  time  detection_types  \\\n",
            "0  AWS_VPC_Flow  prod_webserver  2024-04-25T23:00:00Z                0   \n",
            "1  AWS_VPC_Flow  prod_webserver  2024-04-25T23:00:00Z                0   \n",
            "2  AWS_VPC_Flow  prod_webserver  2024-04-25T23:00:00Z                0   \n",
            "3  AWS_VPC_Flow  prod_webserver  2024-04-25T23:00:00Z                0   \n",
            "4  AWS_VPC_Flow  prod_webserver  2024-04-25T23:00:00Z                0   \n",
            "\n",
            "   duration  \n",
            "0     600.0  \n",
            "1     600.0  \n",
            "2     600.0  \n",
            "3     600.0  \n",
            "4     600.0  \n"
          ]
        }
      ]
    },
    {
      "cell_type": "code",
      "source": [
        "le = LabelEncoder()\n",
        "\n",
        "df['src_ip_country_code_encoded'] = le.fit_transform(df['src_ip_country_code'])\n",
        "\n",
        "print(dict(zip(le.classes_, le.transform(le.classes_))))"
      ],
      "metadata": {
        "colab": {
          "base_uri": "https://localhost:8080/"
        },
        "id": "tAE9x6dgonn2",
        "outputId": "018874d0-dc4a-4d20-98fb-a7757def8961"
      },
      "execution_count": 60,
      "outputs": [
        {
          "output_type": "stream",
          "name": "stdout",
          "text": [
            "{'AE': 0, 'AT': 1, 'CA': 2, 'DE': 3, 'IL': 4, 'NL': 5, 'US': 6}\n"
          ]
        }
      ]
    },
    {
      "cell_type": "code",
      "source": [
        "features = ['bytes_in', 'bytes_out', 'duration', 'src_ip_country_code_encoded']\n",
        "\n",
        "X = df[features]\n",
        "\n",
        "scaler = StandardScaler()\n",
        "\n",
        "X_scaled = scaler.fit_transform(X)\n",
        "\n",
        "print(pd.DataFrame(X_scaled, columns=features).describe())"
      ],
      "metadata": {
        "colab": {
          "base_uri": "https://localhost:8080/"
        },
        "id": "Vuyvzkmah5om",
        "outputId": "bd3dee69-ebb8-43d0-f3bb-0f25bb815530"
      },
      "execution_count": 61,
      "outputs": [
        {
          "output_type": "stream",
          "name": "stdout",
          "text": [
            "           bytes_in     bytes_out  duration  src_ip_country_code_encoded\n",
            "count  2.820000e+02  2.820000e+02     282.0                 2.820000e+02\n",
            "mean  -1.259828e-17 -1.259828e-17       0.0                -5.039310e-17\n",
            "std    1.001778e+00  1.001778e+00       0.0                 1.001778e+00\n",
            "min   -2.895618e-01 -3.320960e-01       0.0                -1.829139e+00\n",
            "25%   -2.882722e-01 -2.884847e-01       0.0                -8.676903e-01\n",
            "50%   -2.863889e-01 -2.780417e-01       0.0                 9.375828e-02\n",
            "75%   -2.821274e-01 -2.289996e-01       0.0                 1.055207e+00\n",
            "max    5.796403e+00  5.802781e+00       0.0                 1.055207e+00\n"
          ]
        }
      ]
    },
    {
      "cell_type": "code",
      "source": [
        "iso_forest = IsolationForest(contamination=0.05, random_state=42)\n",
        "\n",
        "iso_forest.fit(X_scaled)\n",
        "\n",
        "df['anomaly'] = iso_forest.predict(X_scaled)\n",
        "\n",
        "anomalies = df[df['anomaly'] == -1]\n",
        "\n",
        "print(anomalies.head())"
      ],
      "metadata": {
        "colab": {
          "base_uri": "https://localhost:8080/"
        },
        "id": "k3oLZQgRh5mD",
        "outputId": "18409d3e-c8a8-4bba-9c9f-a9eb7e208af4"
      },
      "execution_count": 62,
      "outputs": [
        {
          "output_type": "stream",
          "name": "stdout",
          "text": [
            "     bytes_in  bytes_out             creation_time                  end_time  \\\n",
            "36    4190330     283456 2024-04-25 23:30:00+00:00 2024-04-25 23:40:00+00:00   \n",
            "116   4827283     306181 2024-04-26 01:00:00+00:00 2024-04-26 01:10:00+00:00   \n",
            "153   4869181     301752 2024-04-26 01:40:00+00:00 2024-04-26 01:50:00+00:00   \n",
            "169  18201558    1170896 2024-04-26 08:00:00+00:00 2024-04-26 08:10:00+00:00   \n",
            "176  18273120    1145109 2024-04-26 08:10:00+00:00 2024-04-26 08:20:00+00:00   \n",
            "\n",
            "            src_ip src_ip_country_code  protocol  response.code  dst_port  \\\n",
            "36   155.91.45.242                  US         0            200       443   \n",
            "116  155.91.45.242                  US         0            200       443   \n",
            "153  155.91.45.242                  US         0            200       443   \n",
            "169  155.91.45.242                  US         0            200       443   \n",
            "176  155.91.45.242                  US         0            200       443   \n",
            "\n",
            "           dst_ip              rule_names  \\\n",
            "36   10.138.69.97  Suspicious Web Traffic   \n",
            "116  10.138.69.97  Suspicious Web Traffic   \n",
            "153  10.138.69.97  Suspicious Web Traffic   \n",
            "169  10.138.69.97  Suspicious Web Traffic   \n",
            "176  10.138.69.97  Suspicious Web Traffic   \n",
            "\n",
            "                         observation_name   source.meta     source.name  \\\n",
            "36   Adversary Infrastructure Interaction  AWS_VPC_Flow  prod_webserver   \n",
            "116  Adversary Infrastructure Interaction  AWS_VPC_Flow  prod_webserver   \n",
            "153  Adversary Infrastructure Interaction  AWS_VPC_Flow  prod_webserver   \n",
            "169  Adversary Infrastructure Interaction  AWS_VPC_Flow  prod_webserver   \n",
            "176  Adversary Infrastructure Interaction  AWS_VPC_Flow  prod_webserver   \n",
            "\n",
            "                     time  detection_types  duration  \\\n",
            "36   2024-04-25T23:30:00Z                0     600.0   \n",
            "116  2024-04-26T01:00:00Z                0     600.0   \n",
            "153  2024-04-26T01:40:00Z                0     600.0   \n",
            "169  2024-04-26T08:00:00Z                0     600.0   \n",
            "176  2024-04-26T08:10:00Z                0     600.0   \n",
            "\n",
            "     src_ip_country_code_encoded  anomaly  \n",
            "36                             6       -1  \n",
            "116                            6       -1  \n",
            "153                            6       -1  \n",
            "169                            6       -1  \n",
            "176                            6       -1  \n"
          ]
        }
      ]
    },
    {
      "cell_type": "code",
      "source": [
        "plt.figure(figsize=(12, 6))\n",
        "sns.scatterplot(x=df['bytes_in'], y=df['bytes_out'], hue=df['anomaly'], palette={1: 'blue', -1: 'red'})\n",
        "plt.title('Anomaly Detection in Network Traffic')\n",
        "plt.xlabel('Bytes In')\n",
        "plt.ylabel('Bytes Out')\n",
        "plt.legend(title='Anomaly')\n",
        "plt.show()"
      ],
      "metadata": {
        "colab": {
          "base_uri": "https://localhost:8080/",
          "height": 564
        },
        "id": "QP-r3wN-h5jZ",
        "outputId": "22f27a6a-e9b9-4e8e-9ff3-a45b0a5bb3f8"
      },
      "execution_count": 63,
      "outputs": [
        {
          "output_type": "display_data",
          "data": {
            "text/plain": [
              "<Figure size 1200x600 with 1 Axes>"
            ],
            "image/png": "[encoded data removed]"
          },
          "metadata": {}
        }
      ]
    }
  ]
}